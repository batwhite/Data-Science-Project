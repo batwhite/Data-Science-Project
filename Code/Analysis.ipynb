{
  "nbformat": 4,
  "nbformat_minor": 5,
  "metadata": {
    "kernelspec": {
      "display_name": "Python 3",
      "language": "python",
      "name": "python3"
    },
    "language_info": {
      "codemirror_mode": {
        "name": "ipython",
        "version": 3
      },
      "file_extension": ".py",
      "mimetype": "text/x-python",
      "name": "python",
      "nbconvert_exporter": "python",
      "pygments_lexer": "ipython3",
      "version": "3.6.13"
    },
    "colab": {
      "name": "Analysis.ipynb",
      "provenance": []
    }
  },
  "cells": [
    {
      "cell_type": "code",
      "metadata": {
        "id": "fc0cd61e-aa0e-410b-a529-54ffdf0f76c5"
      },
      "source": [
        "import os\n",
        "os.environ['KMP_DUPLICATE_LIB_OK']='True'"
      ],
      "id": "fc0cd61e-aa0e-410b-a529-54ffdf0f76c5",
      "execution_count": 1,
      "outputs": []
    },
    {
      "cell_type": "code",
      "metadata": {
        "colab": {
          "base_uri": "https://localhost:8080/"
        },
        "id": "rWvNU6hKBoSh",
        "outputId": "c74915d6-84c7-4156-abfa-916ff553780c"
      },
      "source": [
        "!git clone https://github.com/batwhite/Data-Science-Project.git"
      ],
      "id": "rWvNU6hKBoSh",
      "execution_count": 3,
      "outputs": [
        {
          "output_type": "stream",
          "name": "stdout",
          "text": [
            "Cloning into 'Data-Science-Project'...\n",
            "remote: Enumerating objects: 9, done.\u001b[K\n",
            "remote: Counting objects: 100% (9/9), done.\u001b[K\n",
            "remote: Compressing objects: 100% (9/9), done.\u001b[K\n",
            "remote: Total 9 (delta 0), reused 9 (delta 0), pack-reused 0\u001b[K\n",
            "Unpacking objects: 100% (9/9), done.\n"
          ]
        }
      ]
    },
    {
      "cell_type": "code",
      "metadata": {
        "id": "a40a7576-ed35-47db-807e-bc5f2e7534ca"
      },
      "source": [
        "import numpy as np\n",
        "import pandas as pd\n",
        "import matplotlib\n",
        "\n",
        "import matplotlib.pyplot as plt\n",
        "import seaborn as sns\n",
        "import tensorflow as tf\n",
        "import os\n",
        "from IPython.core.interactiveshell import InteractiveShell\n",
        "InteractiveShell.ast_node_interactivity = \"all\"\n",
        "\n",
        "#for matplotlib\n",
        "\n",
        "\n",
        "%matplotlib inline\n",
        "\n"
      ],
      "id": "a40a7576-ed35-47db-807e-bc5f2e7534ca",
      "execution_count": 5,
      "outputs": []
    },
    {
      "cell_type": "code",
      "metadata": {
        "colab": {
          "base_uri": "https://localhost:8080/",
          "height": 423
        },
        "id": "987c7691-8f03-4b7a-aaa6-60191601c213",
        "outputId": "9a6e53bf-1ff1-43cf-8ee1-822a93dc852a"
      },
      "source": [
        "path_transaction = \"/content/Data-Science-Project/Data/QVI_transaction_data.xlsx\"\n",
        "path_trends = \"/content/Data-Science-Project/Data/QVI_purchase_behaviour.csv\"\n",
        "trends_data = pd.read_csv(path_trends)\n",
        "trends_data"
      ],
      "id": "987c7691-8f03-4b7a-aaa6-60191601c213",
      "execution_count": 6,
      "outputs": [
        {
          "output_type": "execute_result",
          "data": {
            "text/html": [
              "<div>\n",
              "<style scoped>\n",
              "    .dataframe tbody tr th:only-of-type {\n",
              "        vertical-align: middle;\n",
              "    }\n",
              "\n",
              "    .dataframe tbody tr th {\n",
              "        vertical-align: top;\n",
              "    }\n",
              "\n",
              "    .dataframe thead th {\n",
              "        text-align: right;\n",
              "    }\n",
              "</style>\n",
              "<table border=\"1\" class=\"dataframe\">\n",
              "  <thead>\n",
              "    <tr style=\"text-align: right;\">\n",
              "      <th></th>\n",
              "      <th>LYLTY_CARD_NBR</th>\n",
              "      <th>LIFESTAGE</th>\n",
              "      <th>PREMIUM_CUSTOMER</th>\n",
              "    </tr>\n",
              "  </thead>\n",
              "  <tbody>\n",
              "    <tr>\n",
              "      <th>0</th>\n",
              "      <td>1000</td>\n",
              "      <td>YOUNG SINGLES/COUPLES</td>\n",
              "      <td>Premium</td>\n",
              "    </tr>\n",
              "    <tr>\n",
              "      <th>1</th>\n",
              "      <td>1002</td>\n",
              "      <td>YOUNG SINGLES/COUPLES</td>\n",
              "      <td>Mainstream</td>\n",
              "    </tr>\n",
              "    <tr>\n",
              "      <th>2</th>\n",
              "      <td>1003</td>\n",
              "      <td>YOUNG FAMILIES</td>\n",
              "      <td>Budget</td>\n",
              "    </tr>\n",
              "    <tr>\n",
              "      <th>3</th>\n",
              "      <td>1004</td>\n",
              "      <td>OLDER SINGLES/COUPLES</td>\n",
              "      <td>Mainstream</td>\n",
              "    </tr>\n",
              "    <tr>\n",
              "      <th>4</th>\n",
              "      <td>1005</td>\n",
              "      <td>MIDAGE SINGLES/COUPLES</td>\n",
              "      <td>Mainstream</td>\n",
              "    </tr>\n",
              "    <tr>\n",
              "      <th>...</th>\n",
              "      <td>...</td>\n",
              "      <td>...</td>\n",
              "      <td>...</td>\n",
              "    </tr>\n",
              "    <tr>\n",
              "      <th>72632</th>\n",
              "      <td>2370651</td>\n",
              "      <td>MIDAGE SINGLES/COUPLES</td>\n",
              "      <td>Mainstream</td>\n",
              "    </tr>\n",
              "    <tr>\n",
              "      <th>72633</th>\n",
              "      <td>2370701</td>\n",
              "      <td>YOUNG FAMILIES</td>\n",
              "      <td>Mainstream</td>\n",
              "    </tr>\n",
              "    <tr>\n",
              "      <th>72634</th>\n",
              "      <td>2370751</td>\n",
              "      <td>YOUNG FAMILIES</td>\n",
              "      <td>Premium</td>\n",
              "    </tr>\n",
              "    <tr>\n",
              "      <th>72635</th>\n",
              "      <td>2370961</td>\n",
              "      <td>OLDER FAMILIES</td>\n",
              "      <td>Budget</td>\n",
              "    </tr>\n",
              "    <tr>\n",
              "      <th>72636</th>\n",
              "      <td>2373711</td>\n",
              "      <td>YOUNG SINGLES/COUPLES</td>\n",
              "      <td>Mainstream</td>\n",
              "    </tr>\n",
              "  </tbody>\n",
              "</table>\n",
              "<p>72637 rows × 3 columns</p>\n",
              "</div>"
            ],
            "text/plain": [
              "       LYLTY_CARD_NBR               LIFESTAGE PREMIUM_CUSTOMER\n",
              "0                1000   YOUNG SINGLES/COUPLES          Premium\n",
              "1                1002   YOUNG SINGLES/COUPLES       Mainstream\n",
              "2                1003          YOUNG FAMILIES           Budget\n",
              "3                1004   OLDER SINGLES/COUPLES       Mainstream\n",
              "4                1005  MIDAGE SINGLES/COUPLES       Mainstream\n",
              "...               ...                     ...              ...\n",
              "72632         2370651  MIDAGE SINGLES/COUPLES       Mainstream\n",
              "72633         2370701          YOUNG FAMILIES       Mainstream\n",
              "72634         2370751          YOUNG FAMILIES          Premium\n",
              "72635         2370961          OLDER FAMILIES           Budget\n",
              "72636         2373711   YOUNG SINGLES/COUPLES       Mainstream\n",
              "\n",
              "[72637 rows x 3 columns]"
            ]
          },
          "metadata": {},
          "execution_count": 6
        }
      ]
    },
    {
      "cell_type": "code",
      "metadata": {
        "colab": {
          "base_uri": "https://localhost:8080/",
          "height": 1000
        },
        "id": "7f993656-22df-4bee-94ce-9a50fdff84c8",
        "outputId": "e6362d43-aa63-48d9-e9ab-41f8d71c4066"
      },
      "source": [
        "categorical_lifestage = pd.Categorical(trends_data.LIFESTAGE)\n",
        "categorical_lifestage.describe()\n",
        "plt.figure()\n",
        "\n",
        "fig,ax = plt.subplots(nrows = 1,ncols = 2,figsize = (20,10))\n",
        "\n",
        "ax[0].bar(trends_data.LIFESTAGE.value_counts().index,trends_data.LIFESTAGE.value_counts()) \n",
        "ax[0].tick_params(labelrotation=90)\n",
        "ax[1].bar(trends_data.PREMIUM_CUSTOMER.value_counts().index,trends_data.PREMIUM_CUSTOMER.value_counts())\n",
        "ax[1].tick_params(labelrotation = 90)\n",
        "plt.show()\n",
        "\n",
        "\n",
        "# trends_data.LIFESTAGE[categorical_lifestage[1]]\n"
      ],
      "id": "7f993656-22df-4bee-94ce-9a50fdff84c8",
      "execution_count": 7,
      "outputs": [
        {
          "output_type": "execute_result",
          "data": {
            "text/html": [
              "<div>\n",
              "<style scoped>\n",
              "    .dataframe tbody tr th:only-of-type {\n",
              "        vertical-align: middle;\n",
              "    }\n",
              "\n",
              "    .dataframe tbody tr th {\n",
              "        vertical-align: top;\n",
              "    }\n",
              "\n",
              "    .dataframe thead th {\n",
              "        text-align: right;\n",
              "    }\n",
              "</style>\n",
              "<table border=\"1\" class=\"dataframe\">\n",
              "  <thead>\n",
              "    <tr style=\"text-align: right;\">\n",
              "      <th></th>\n",
              "      <th>counts</th>\n",
              "      <th>freqs</th>\n",
              "    </tr>\n",
              "    <tr>\n",
              "      <th>categories</th>\n",
              "      <th></th>\n",
              "      <th></th>\n",
              "    </tr>\n",
              "  </thead>\n",
              "  <tbody>\n",
              "    <tr>\n",
              "      <th>MIDAGE SINGLES/COUPLES</th>\n",
              "      <td>7275</td>\n",
              "      <td>0.100156</td>\n",
              "    </tr>\n",
              "    <tr>\n",
              "      <th>NEW FAMILIES</th>\n",
              "      <td>2549</td>\n",
              "      <td>0.035092</td>\n",
              "    </tr>\n",
              "    <tr>\n",
              "      <th>OLDER FAMILIES</th>\n",
              "      <td>9780</td>\n",
              "      <td>0.134642</td>\n",
              "    </tr>\n",
              "    <tr>\n",
              "      <th>OLDER SINGLES/COUPLES</th>\n",
              "      <td>14609</td>\n",
              "      <td>0.201123</td>\n",
              "    </tr>\n",
              "    <tr>\n",
              "      <th>RETIREES</th>\n",
              "      <td>14805</td>\n",
              "      <td>0.203822</td>\n",
              "    </tr>\n",
              "    <tr>\n",
              "      <th>YOUNG FAMILIES</th>\n",
              "      <td>9178</td>\n",
              "      <td>0.126354</td>\n",
              "    </tr>\n",
              "    <tr>\n",
              "      <th>YOUNG SINGLES/COUPLES</th>\n",
              "      <td>14441</td>\n",
              "      <td>0.198811</td>\n",
              "    </tr>\n",
              "  </tbody>\n",
              "</table>\n",
              "</div>"
            ],
            "text/plain": [
              "                        counts     freqs\n",
              "categories                              \n",
              "MIDAGE SINGLES/COUPLES    7275  0.100156\n",
              "NEW FAMILIES              2549  0.035092\n",
              "OLDER FAMILIES            9780  0.134642\n",
              "OLDER SINGLES/COUPLES    14609  0.201123\n",
              "RETIREES                 14805  0.203822\n",
              "YOUNG FAMILIES            9178  0.126354\n",
              "YOUNG SINGLES/COUPLES    14441  0.198811"
            ]
          },
          "metadata": {},
          "execution_count": 7
        },
        {
          "output_type": "execute_result",
          "data": {
            "text/plain": [
              "<Figure size 432x288 with 0 Axes>"
            ]
          },
          "metadata": {},
          "execution_count": 7
        },
        {
          "output_type": "execute_result",
          "data": {
            "text/plain": [
              "<BarContainer object of 7 artists>"
            ]
          },
          "metadata": {},
          "execution_count": 7
        },
        {
          "output_type": "execute_result",
          "data": {
            "text/plain": [
              "<BarContainer object of 3 artists>"
            ]
          },
          "metadata": {},
          "execution_count": 7
        },
        {
          "output_type": "display_data",
          "data": {
            "text/plain": [
              "<Figure size 432x288 with 0 Axes>"
            ]
          },
          "metadata": {}
        },
        {
          "output_type": "display_data",
          "data": {
            "image/png": "[encoded data removed]",
            "text/plain": [
              "<Figure size 1440x720 with 2 Axes>"
            ]
          },
          "metadata": {
            "needs_background": "light"
          }
        }
      ]
    },
    {
      "cell_type": "code",
      "metadata": {
        "colab": {
          "base_uri": "https://localhost:8080/",
          "height": 423
        },
        "id": "35df8a1e-943f-418f-96e2-75efec05bd82",
        "outputId": "1569d7cf-d3f1-4378-9c01-adfc7bfd0004"
      },
      "source": [
        "transaction_data = pd.read_excel(path_transaction, engine = 'openpyxl')\n",
        "transaction_data"
      ],
      "id": "35df8a1e-943f-418f-96e2-75efec05bd82",
      "execution_count": 57,
      "outputs": [
        {
          "output_type": "execute_result",
          "data": {
            "text/html": [
              "<div>\n",
              "<style scoped>\n",
              "    .dataframe tbody tr th:only-of-type {\n",
              "        vertical-align: middle;\n",
              "    }\n",
              "\n",
              "    .dataframe tbody tr th {\n",
              "        vertical-align: top;\n",
              "    }\n",
              "\n",
              "    .dataframe thead th {\n",
              "        text-align: right;\n",
              "    }\n",
              "</style>\n",
              "<table border=\"1\" class=\"dataframe\">\n",
              "  <thead>\n",
              "    <tr style=\"text-align: right;\">\n",
              "      <th></th>\n",
              "      <th>DATE</th>\n",
              "      <th>STORE_NBR</th>\n",
              "      <th>LYLTY_CARD_NBR</th>\n",
              "      <th>TXN_ID</th>\n",
              "      <th>PROD_NBR</th>\n",
              "      <th>PROD_NAME</th>\n",
              "      <th>PROD_QTY</th>\n",
              "      <th>TOT_SALES</th>\n",
              "    </tr>\n",
              "  </thead>\n",
              "  <tbody>\n",
              "    <tr>\n",
              "      <th>0</th>\n",
              "      <td>43390</td>\n",
              "      <td>1</td>\n",
              "      <td>1000</td>\n",
              "      <td>1</td>\n",
              "      <td>5</td>\n",
              "      <td>Natural Chip        Compny SeaSalt175g</td>\n",
              "      <td>2</td>\n",
              "      <td>6.0</td>\n",
              "    </tr>\n",
              "    <tr>\n",
              "      <th>1</th>\n",
              "      <td>43599</td>\n",
              "      <td>1</td>\n",
              "      <td>1307</td>\n",
              "      <td>348</td>\n",
              "      <td>66</td>\n",
              "      <td>CCs Nacho Cheese    175g</td>\n",
              "      <td>3</td>\n",
              "      <td>6.3</td>\n",
              "    </tr>\n",
              "    <tr>\n",
              "      <th>2</th>\n",
              "      <td>43605</td>\n",
              "      <td>1</td>\n",
              "      <td>1343</td>\n",
              "      <td>383</td>\n",
              "      <td>61</td>\n",
              "      <td>Smiths Crinkle Cut  Chips Chicken 170g</td>\n",
              "      <td>2</td>\n",
              "      <td>2.9</td>\n",
              "    </tr>\n",
              "    <tr>\n",
              "      <th>3</th>\n",
              "      <td>43329</td>\n",
              "      <td>2</td>\n",
              "      <td>2373</td>\n",
              "      <td>974</td>\n",
              "      <td>69</td>\n",
              "      <td>Smiths Chip Thinly  S/Cream&amp;Onion 175g</td>\n",
              "      <td>5</td>\n",
              "      <td>15.0</td>\n",
              "    </tr>\n",
              "    <tr>\n",
              "      <th>4</th>\n",
              "      <td>43330</td>\n",
              "      <td>2</td>\n",
              "      <td>2426</td>\n",
              "      <td>1038</td>\n",
              "      <td>108</td>\n",
              "      <td>Kettle Tortilla ChpsHny&amp;Jlpno Chili 150g</td>\n",
              "      <td>3</td>\n",
              "      <td>13.8</td>\n",
              "    </tr>\n",
              "    <tr>\n",
              "      <th>...</th>\n",
              "      <td>...</td>\n",
              "      <td>...</td>\n",
              "      <td>...</td>\n",
              "      <td>...</td>\n",
              "      <td>...</td>\n",
              "      <td>...</td>\n",
              "      <td>...</td>\n",
              "      <td>...</td>\n",
              "    </tr>\n",
              "    <tr>\n",
              "      <th>264831</th>\n",
              "      <td>43533</td>\n",
              "      <td>272</td>\n",
              "      <td>272319</td>\n",
              "      <td>270088</td>\n",
              "      <td>89</td>\n",
              "      <td>Kettle Sweet Chilli And Sour Cream 175g</td>\n",
              "      <td>2</td>\n",
              "      <td>10.8</td>\n",
              "    </tr>\n",
              "    <tr>\n",
              "      <th>264832</th>\n",
              "      <td>43325</td>\n",
              "      <td>272</td>\n",
              "      <td>272358</td>\n",
              "      <td>270154</td>\n",
              "      <td>74</td>\n",
              "      <td>Tostitos Splash Of  Lime 175g</td>\n",
              "      <td>1</td>\n",
              "      <td>4.4</td>\n",
              "    </tr>\n",
              "    <tr>\n",
              "      <th>264833</th>\n",
              "      <td>43410</td>\n",
              "      <td>272</td>\n",
              "      <td>272379</td>\n",
              "      <td>270187</td>\n",
              "      <td>51</td>\n",
              "      <td>Doritos Mexicana    170g</td>\n",
              "      <td>2</td>\n",
              "      <td>8.8</td>\n",
              "    </tr>\n",
              "    <tr>\n",
              "      <th>264834</th>\n",
              "      <td>43461</td>\n",
              "      <td>272</td>\n",
              "      <td>272379</td>\n",
              "      <td>270188</td>\n",
              "      <td>42</td>\n",
              "      <td>Doritos Corn Chip Mexican Jalapeno 150g</td>\n",
              "      <td>2</td>\n",
              "      <td>7.8</td>\n",
              "    </tr>\n",
              "    <tr>\n",
              "      <th>264835</th>\n",
              "      <td>43365</td>\n",
              "      <td>272</td>\n",
              "      <td>272380</td>\n",
              "      <td>270189</td>\n",
              "      <td>74</td>\n",
              "      <td>Tostitos Splash Of  Lime 175g</td>\n",
              "      <td>2</td>\n",
              "      <td>8.8</td>\n",
              "    </tr>\n",
              "  </tbody>\n",
              "</table>\n",
              "<p>264836 rows × 8 columns</p>\n",
              "</div>"
            ],
            "text/plain": [
              "         DATE  STORE_NBR  ...  PROD_QTY  TOT_SALES\n",
              "0       43390          1  ...         2        6.0\n",
              "1       43599          1  ...         3        6.3\n",
              "2       43605          1  ...         2        2.9\n",
              "3       43329          2  ...         5       15.0\n",
              "4       43330          2  ...         3       13.8\n",
              "...       ...        ...  ...       ...        ...\n",
              "264831  43533        272  ...         2       10.8\n",
              "264832  43325        272  ...         1        4.4\n",
              "264833  43410        272  ...         2        8.8\n",
              "264834  43461        272  ...         2        7.8\n",
              "264835  43365        272  ...         2        8.8\n",
              "\n",
              "[264836 rows x 8 columns]"
            ]
          },
          "metadata": {},
          "execution_count": 57
        }
      ]
    },
    {
      "cell_type": "code",
      "metadata": {
        "colab": {
          "base_uri": "https://localhost:8080/"
        },
        "id": "184672ff-6038-475c-acc8-db92f5f0e327",
        "outputId": "8a38f526-8fbf-4781-e11b-449a7d252c4a"
      },
      "source": [
        "#checking whether there are any empty values\n",
        "trends_data.isnull().sum().sum()\n",
        "transaction_data.isnull().sum().sum()"
      ],
      "id": "184672ff-6038-475c-acc8-db92f5f0e327",
      "execution_count": 58,
      "outputs": [
        {
          "output_type": "execute_result",
          "data": {
            "text/plain": [
              "0"
            ]
          },
          "metadata": {},
          "execution_count": 58
        },
        {
          "output_type": "execute_result",
          "data": {
            "text/plain": [
              "0"
            ]
          },
          "metadata": {},
          "execution_count": 58
        }
      ]
    },
    {
      "cell_type": "code",
      "metadata": {
        "colab": {
          "base_uri": "https://localhost:8080/",
          "height": 293
        },
        "id": "9548b289-76e1-4304-b452-17d67c87b36a",
        "outputId": "e52e26cd-589a-4632-cfb4-f10b460092de"
      },
      "source": [
        "merged_data = pd.merge(transaction_data,trends_data, how = \"right\",on = \"LYLTY_CARD_NBR\")\n",
        "merged_data.head()"
      ],
      "id": "9548b289-76e1-4304-b452-17d67c87b36a",
      "execution_count": 74,
      "outputs": [
        {
          "output_type": "execute_result",
          "data": {
            "text/html": [
              "<div>\n",
              "<style scoped>\n",
              "    .dataframe tbody tr th:only-of-type {\n",
              "        vertical-align: middle;\n",
              "    }\n",
              "\n",
              "    .dataframe tbody tr th {\n",
              "        vertical-align: top;\n",
              "    }\n",
              "\n",
              "    .dataframe thead th {\n",
              "        text-align: right;\n",
              "    }\n",
              "</style>\n",
              "<table border=\"1\" class=\"dataframe\">\n",
              "  <thead>\n",
              "    <tr style=\"text-align: right;\">\n",
              "      <th></th>\n",
              "      <th>DATE</th>\n",
              "      <th>STORE_NBR</th>\n",
              "      <th>LYLTY_CARD_NBR</th>\n",
              "      <th>TXN_ID</th>\n",
              "      <th>PROD_NBR</th>\n",
              "      <th>PROD_NAME</th>\n",
              "      <th>PROD_QTY</th>\n",
              "      <th>TOT_SALES</th>\n",
              "      <th>LIFESTAGE</th>\n",
              "      <th>PREMIUM_CUSTOMER</th>\n",
              "    </tr>\n",
              "  </thead>\n",
              "  <tbody>\n",
              "    <tr>\n",
              "      <th>0</th>\n",
              "      <td>43390</td>\n",
              "      <td>1</td>\n",
              "      <td>1000</td>\n",
              "      <td>1</td>\n",
              "      <td>5</td>\n",
              "      <td>Natural Chip        Compny SeaSalt175g</td>\n",
              "      <td>2</td>\n",
              "      <td>6.0</td>\n",
              "      <td>YOUNG SINGLES/COUPLES</td>\n",
              "      <td>Premium</td>\n",
              "    </tr>\n",
              "    <tr>\n",
              "      <th>1</th>\n",
              "      <td>43359</td>\n",
              "      <td>1</td>\n",
              "      <td>1002</td>\n",
              "      <td>2</td>\n",
              "      <td>58</td>\n",
              "      <td>Red Rock Deli Chikn&amp;Garlic Aioli 150g</td>\n",
              "      <td>1</td>\n",
              "      <td>2.7</td>\n",
              "      <td>YOUNG SINGLES/COUPLES</td>\n",
              "      <td>Mainstream</td>\n",
              "    </tr>\n",
              "    <tr>\n",
              "      <th>2</th>\n",
              "      <td>43531</td>\n",
              "      <td>1</td>\n",
              "      <td>1003</td>\n",
              "      <td>3</td>\n",
              "      <td>52</td>\n",
              "      <td>Grain Waves Sour    Cream&amp;Chives 210G</td>\n",
              "      <td>1</td>\n",
              "      <td>3.6</td>\n",
              "      <td>YOUNG FAMILIES</td>\n",
              "      <td>Budget</td>\n",
              "    </tr>\n",
              "    <tr>\n",
              "      <th>3</th>\n",
              "      <td>43532</td>\n",
              "      <td>1</td>\n",
              "      <td>1003</td>\n",
              "      <td>4</td>\n",
              "      <td>106</td>\n",
              "      <td>Natural ChipCo      Hony Soy Chckn175g</td>\n",
              "      <td>1</td>\n",
              "      <td>3.0</td>\n",
              "      <td>YOUNG FAMILIES</td>\n",
              "      <td>Budget</td>\n",
              "    </tr>\n",
              "    <tr>\n",
              "      <th>4</th>\n",
              "      <td>43406</td>\n",
              "      <td>1</td>\n",
              "      <td>1004</td>\n",
              "      <td>5</td>\n",
              "      <td>96</td>\n",
              "      <td>WW Original Stacked Chips 160g</td>\n",
              "      <td>1</td>\n",
              "      <td>1.9</td>\n",
              "      <td>OLDER SINGLES/COUPLES</td>\n",
              "      <td>Mainstream</td>\n",
              "    </tr>\n",
              "  </tbody>\n",
              "</table>\n",
              "</div>"
            ],
            "text/plain": [
              "    DATE  STORE_NBR  ...              LIFESTAGE  PREMIUM_CUSTOMER\n",
              "0  43390          1  ...  YOUNG SINGLES/COUPLES           Premium\n",
              "1  43359          1  ...  YOUNG SINGLES/COUPLES        Mainstream\n",
              "2  43531          1  ...         YOUNG FAMILIES            Budget\n",
              "3  43532          1  ...         YOUNG FAMILIES            Budget\n",
              "4  43406          1  ...  OLDER SINGLES/COUPLES        Mainstream\n",
              "\n",
              "[5 rows x 10 columns]"
            ]
          },
          "metadata": {},
          "execution_count": 74
        }
      ]
    },
    {
      "cell_type": "code",
      "metadata": {
        "colab": {
          "base_uri": "https://localhost:8080/"
        },
        "id": "47ea6924-e03a-448f-9382-b874a1806256",
        "outputId": "fd52c4a1-4eea-4a27-db76-cc3e73722fd5"
      },
      "source": [
        "#checking that all the customers have transaction records\n",
        "merged_data.isnull().sum().sum()\n",
        "\n",
        "#gettinig all the names of the products\n",
        "unique_prod = merged_data[\"PROD_NAME\"].unique()\n",
        "unique_prod"
      ],
      "id": "47ea6924-e03a-448f-9382-b874a1806256",
      "execution_count": 75,
      "outputs": [
        {
          "output_type": "execute_result",
          "data": {
            "text/plain": [
              "0"
            ]
          },
          "metadata": {},
          "execution_count": 75
        },
        {
          "output_type": "execute_result",
          "data": {
            "text/plain": [
              "array(['Natural Chip        Compny SeaSalt175g',\n",
              "       'Red Rock Deli Chikn&Garlic Aioli 150g',\n",
              "       'Grain Waves Sour    Cream&Chives 210G',\n",
              "       'Natural ChipCo      Hony Soy Chckn175g',\n",
              "       'WW Original Stacked Chips 160g', 'Cheetos Puffs 165g',\n",
              "       'Infuzions SourCream&Herbs Veg Strws 110g',\n",
              "       'RRD SR Slow Rst     Pork Belly 150g',\n",
              "       'Doritos Cheese      Supreme 330g', 'Doritos Mexicana    170g',\n",
              "       'Old El Paso Salsa   Dip Tomato Med 300g',\n",
              "       'GrnWves Plus Btroot & Chilli Jam 180g',\n",
              "       'Smiths Crinkle Cut  Chips Barbecue 170g',\n",
              "       'Kettle Sensations   Camembert & Fig 150g',\n",
              "       'Doritos Corn Chip Southern Chicken 150g',\n",
              "       'CCs Tasty Cheese    175g', 'Tostitos Splash Of  Lime 175g',\n",
              "       'Kettle 135g Swt Pot Sea Salt', 'RRD Salt & Vinegar  165g',\n",
              "       'Infuzions Mango     Chutny Papadums 70g',\n",
              "       'Smiths Crinkle Cut  Snag&Sauce 150g',\n",
              "       'Smiths Crinkle      Original 330g',\n",
              "       'RRD Sweet Chilli &  Sour Cream 165g',\n",
              "       'Smiths Chip Thinly  S/Cream&Onion 175g',\n",
              "       'Smiths Crinkle Chips Salt & Vinegar 330g',\n",
              "       'Red Rock Deli SR    Salsa & Mzzrlla 150g',\n",
              "       'Cobs Popd Sea Salt  Chips 110g',\n",
              "       'Natural ChipCo Sea  Salt & Vinegr 175g',\n",
              "       'Natural Chip Co     Tmato Hrb&Spce 175g', 'Burger Rings 220g',\n",
              "       'Woolworths Cheese   Rings 190g',\n",
              "       'Smiths Thinly       Swt Chli&S/Cream175G',\n",
              "       'Thins Chips Seasonedchicken 175g',\n",
              "       'Smiths Thinly Cut   Roast Chicken 175g',\n",
              "       'Tyrrells Crisps     Ched & Chives 165g',\n",
              "       'Doritos Corn Chips  Cheese Supreme 170g',\n",
              "       'Smiths Chip Thinly  Cut Original 175g',\n",
              "       'Smiths Crinkle Cut  Chips Original 170g',\n",
              "       'Thins Chips Light&  Tangy 175g',\n",
              "       'Doritos Corn Chips  Original 170g',\n",
              "       'Kettle Sensations   Siracha Lime 150g',\n",
              "       'Smiths Crinkle Cut  Salt & Vinegar 170g',\n",
              "       'Smith Crinkle Cut   Bolognese 150g', 'Cheezels Cheese 330g',\n",
              "       'Kettle Chilli 175g', 'Tyrrells Crisps     Lightly Salted 165g',\n",
              "       'Twisties Cheese     270g', 'WW Crinkle Cut      Chicken 175g',\n",
              "       'RRD Chilli&         Coconut 150g',\n",
              "       'Infuzions BBQ Rib   Prawn Crackers 110g',\n",
              "       'Sunbites Whlegrn    Crisps Frch/Onin 90g',\n",
              "       'Doritos Salsa       Medium 300g',\n",
              "       'Kettle Tortilla ChpsFeta&Garlic 150g',\n",
              "       'Smiths Crinkle Cut  French OnionDip 150g',\n",
              "       'WW D/Style Chip     Sea Salt 200g',\n",
              "       'Smiths Chip Thinly  CutSalt/Vinegr175g',\n",
              "       'Kettle Sensations   BBQ&Maple 150g',\n",
              "       'Old El Paso Salsa   Dip Tomato Mild 300g',\n",
              "       'Tostitos Smoked     Chipotle 175g', 'RRD Lime & Pepper   165g',\n",
              "       'CCs Nacho Cheese    175g', 'Snbts Whlgrn Crisps Cheddr&Mstrd 90g',\n",
              "       'Kettle Tortilla ChpsBtroot&Ricotta 150g',\n",
              "       'Pringles Sthrn FriedChicken 134g',\n",
              "       'Pringles Chicken    Salt Crips 134g',\n",
              "       'French Fries Potato Chips 175g',\n",
              "       'Kettle Mozzarella   Basil & Pesto 175g', 'CCs Original 175g',\n",
              "       'Tostitos Lightly    Salted 175g',\n",
              "       'Smiths Crnkle Chip  Orgnl Big Bag 380g',\n",
              "       'Smiths Crinkle Cut  Chips Chicken 170g',\n",
              "       'Smiths Crinkle Cut  Chips Chs&Onion170g', 'Twisties Chicken270g',\n",
              "       'Woolworths Medium   Salsa 300g',\n",
              "       'Red Rock Deli Sp    Salt & Truffle 150G',\n",
              "       'RRD Pc Sea Salt     165g', 'WW Supreme Cheese   Corn Chips 200g',\n",
              "       'WW Original Corn    Chips 200g', 'Woolworths Mild     Salsa 300g',\n",
              "       'Cheezels Cheese Box 125g', 'Doritos Salsa Mild  300g',\n",
              "       'Cobs Popd Swt/Chlli &Sr/Cream Chips 110g',\n",
              "       'Infzns Crn Crnchers Tangy Gcamole 110g',\n",
              "       'WW Sour Cream &OnionStacked Chips 160g',\n",
              "       'Pringles Mystery    Flavour 134g', 'Pringles Barbeque   134g',\n",
              "       'Grain Waves         Sweet Chilli 210g',\n",
              "       'Pringles Sweet&Spcy BBQ 134g', 'Kettle Original 175g',\n",
              "       'Infuzions Thai SweetChili PotatoMix 110g',\n",
              "       'Old El Paso Salsa   Dip Chnky Tom Ht300g',\n",
              "       'Smiths Crinkle Cut  Tomato Salsa 150g',\n",
              "       'Cheetos Chs & Bacon Balls 190g',\n",
              "       'Kettle Sweet Chilli And Sour Cream 175g',\n",
              "       'Doritos Corn Chips  Nacho Cheese 170g',\n",
              "       'Cobs Popd Sour Crm  &Chives Chips 110g',\n",
              "       'Red Rock Deli Thai  Chilli&Lime 150g',\n",
              "       'Twisties Cheese     Burger 250g',\n",
              "       'Kettle Sea Salt     And Vinegar 175g',\n",
              "       'WW Crinkle Cut      Original 175g',\n",
              "       'Dorito Corn Chp     Supreme 380g',\n",
              "       'Doritos Corn Chip Mexican Jalapeno 150g',\n",
              "       'Pringles SourCream  Onion 134g',\n",
              "       'Kettle Tortilla ChpsHny&Jlpno Chili 150g',\n",
              "       'RRD Steak &         Chimuchurri 150g',\n",
              "       'Thins Chips Salt &  Vinegar 175g',\n",
              "       'Thins Chips         Originl saltd 175g',\n",
              "       'RRD Honey Soy       Chicken 165g',\n",
              "       'Kettle Honey Soy    Chicken 175g',\n",
              "       'NCC Sour Cream &    Garden Chives 175g',\n",
              "       'Pringles Original   Crisps 134g',\n",
              "       'Smith Crinkle Cut   Mac N Cheese 150g',\n",
              "       'Thins Potato Chips  Hot & Spicy 175g', 'Pringles Slt Vingar 134g'],\n",
              "      dtype=object)"
            ]
          },
          "metadata": {},
          "execution_count": 75
        }
      ]
    },
    {
      "cell_type": "code",
      "metadata": {
        "colab": {
          "base_uri": "https://localhost:8080/"
        },
        "id": "0f4722a8-b112-4a05-b244-c6cfbd7b320f",
        "outputId": "166a9d07-23fe-470d-d05c-0330b0976327"
      },
      "source": [
        "split_prods = merged_data[\"PROD_NAME\"].str.replace(r'([0-9]+[gG])','').str.replace(r'[^\\w]', ' ').str.split()\n",
        "split_prods"
      ],
      "id": "0f4722a8-b112-4a05-b244-c6cfbd7b320f",
      "execution_count": 76,
      "outputs": [
        {
          "output_type": "execute_result",
          "data": {
            "text/plain": [
              "0                    [Natural, Chip, Compny, SeaSalt]\n",
              "1             [Red, Rock, Deli, Chikn, Garlic, Aioli]\n",
              "2                 [Grain, Waves, Sour, Cream, Chives]\n",
              "3                 [Natural, ChipCo, Hony, Soy, Chckn]\n",
              "4                      [WW, Original, Stacked, Chips]\n",
              "                             ...                     \n",
              "264831                  [Grain, Waves, Sweet, Chilli]\n",
              "264832           [Kettle, Tortilla, ChpsFeta, Garlic]\n",
              "264833            [Tyrrells, Crisps, Lightly, Salted]\n",
              "264834    [Old, El, Paso, Salsa, Dip, Chnky, Tom, Ht]\n",
              "264835        [Smiths, Crinkle, Chips, Salt, Vinegar]\n",
              "Name: PROD_NAME, Length: 264836, dtype: object"
            ]
          },
          "metadata": {},
          "execution_count": 76
        }
      ]
    },
    {
      "cell_type": "code",
      "metadata": {
        "id": "2c0e9bc8-2189-4b9a-9572-9024ef113e89"
      },
      "source": [
        "#changing date time format\n",
        "from datetime import date, timedelta\n",
        "start = date(1899,12,30)\n",
        "\n",
        "merged_data[\"DATE\"] = merged_data[\"DATE\"].apply(lambda x: timedelta(x)+start)\n",
        "merged_data[\"DATE\"] = merged_data[\"DATE\"].apply(lambda x: x.strftime(\"%x\"))\n",
        "# print(pd.to_datetime(merged_data[\"DATE\"]))\n",
        "\n",
        "\n"
      ],
      "id": "2c0e9bc8-2189-4b9a-9572-9024ef113e89",
      "execution_count": 77,
      "outputs": []
    },
    {
      "cell_type": "code",
      "metadata": {
        "colab": {
          "base_uri": "https://localhost:8080/"
        },
        "id": "b21f118c-a426-4905-a5b4-26a35afad5d9",
        "outputId": "79c2fa53-c27b-47a3-d8ef-4929edfd60af"
      },
      "source": [
        "merged_data[\"DATE\"] = pd.to_datetime(merged_data[\"DATE\"])\n",
        "merged_data[\"DATE\"]"
      ],
      "id": "b21f118c-a426-4905-a5b4-26a35afad5d9",
      "execution_count": 78,
      "outputs": [
        {
          "output_type": "execute_result",
          "data": {
            "text/plain": [
              "0        2018-10-17\n",
              "1        2018-09-16\n",
              "2        2019-03-07\n",
              "3        2019-03-08\n",
              "4        2018-11-02\n",
              "            ...    \n",
              "264831   2018-12-08\n",
              "264832   2018-10-01\n",
              "264833   2018-10-24\n",
              "264834   2018-10-27\n",
              "264835   2018-12-14\n",
              "Name: DATE, Length: 264836, dtype: datetime64[ns]"
            ]
          },
          "metadata": {},
          "execution_count": 78
        }
      ]
    },
    {
      "cell_type": "code",
      "metadata": {
        "colab": {
          "base_uri": "https://localhost:8080/",
          "height": 609
        },
        "id": "caee0ecd-d8a4-45f5-b179-2843ebcc735c",
        "outputId": "d6b674dc-fe96-49ac-ed42-5e6e9a594e4e"
      },
      "source": [
        "# merged_data.sort_values(['DATE'])\n",
        "# mer = merged_data.groupby([\"PREMIUM_CUSTOMER\"])\n",
        "# merged_data[\"DATE\"].index.dtype\n",
        "group = merged_data.groupby([\"STORE_NBR\",pd.Grouper(key = \"DATE\", freq = \"1W\")]).sum()\n",
        "\n",
        "group[1][1]\n",
        "\n",
        "# merged_data[\"DATE\"].map(type) == type(merged_data[\"DATE\"][0])\n",
        "# merged_data.groupby(\"STORE_NBR\").head()"
      ],
      "id": "caee0ecd-d8a4-45f5-b179-2843ebcc735c",
      "execution_count": 103,
      "outputs": [
        {
          "output_type": "error",
          "ename": "KeyError",
          "evalue": "ignored",
          "traceback": [
            "\u001b[0;31m---------------------------------------------------------------------------\u001b[0m",
            "\u001b[0;31mKeyError\u001b[0m                                  Traceback (most recent call last)",
            "\u001b[0;32m/usr/local/lib/python3.7/dist-packages/pandas/core/indexes/base.py\u001b[0m in \u001b[0;36mget_loc\u001b[0;34m(self, key, method, tolerance)\u001b[0m\n\u001b[1;32m   2897\u001b[0m             \u001b[0;32mtry\u001b[0m\u001b[0;34m:\u001b[0m\u001b[0;34m\u001b[0m\u001b[0;34m\u001b[0m\u001b[0m\n\u001b[0;32m-> 2898\u001b[0;31m                 \u001b[0;32mreturn\u001b[0m \u001b[0mself\u001b[0m\u001b[0;34m.\u001b[0m\u001b[0m_engine\u001b[0m\u001b[0;34m.\u001b[0m\u001b[0mget_loc\u001b[0m\u001b[0;34m(\u001b[0m\u001b[0mcasted_key\u001b[0m\u001b[0;34m)\u001b[0m\u001b[0;34m\u001b[0m\u001b[0;34m\u001b[0m\u001b[0m\n\u001b[0m\u001b[1;32m   2899\u001b[0m             \u001b[0;32mexcept\u001b[0m \u001b[0mKeyError\u001b[0m \u001b[0;32mas\u001b[0m \u001b[0merr\u001b[0m\u001b[0;34m:\u001b[0m\u001b[0;34m\u001b[0m\u001b[0;34m\u001b[0m\u001b[0m\n",
            "\u001b[0;32mpandas/_libs/index.pyx\u001b[0m in \u001b[0;36mpandas._libs.index.IndexEngine.get_loc\u001b[0;34m()\u001b[0m\n",
            "\u001b[0;32mpandas/_libs/index.pyx\u001b[0m in \u001b[0;36mpandas._libs.index.IndexEngine.get_loc\u001b[0;34m()\u001b[0m\n",
            "\u001b[0;32mpandas/_libs/hashtable_class_helper.pxi\u001b[0m in \u001b[0;36mpandas._libs.hashtable.PyObjectHashTable.get_item\u001b[0;34m()\u001b[0m\n",
            "\u001b[0;32mpandas/_libs/hashtable_class_helper.pxi\u001b[0m in \u001b[0;36mpandas._libs.hashtable.PyObjectHashTable.get_item\u001b[0;34m()\u001b[0m\n",
            "\u001b[0;31mKeyError\u001b[0m: 1",
            "\nThe above exception was the direct cause of the following exception:\n",
            "\u001b[0;31mKeyError\u001b[0m                                  Traceback (most recent call last)",
            "\u001b[0;32m<ipython-input-103-6a76ceed7968>\u001b[0m in \u001b[0;36m<module>\u001b[0;34m()\u001b[0m\n\u001b[1;32m      4\u001b[0m \u001b[0mgroup\u001b[0m \u001b[0;34m=\u001b[0m \u001b[0mmerged_data\u001b[0m\u001b[0;34m.\u001b[0m\u001b[0mgroupby\u001b[0m\u001b[0;34m(\u001b[0m\u001b[0;34m[\u001b[0m\u001b[0;34m\"STORE_NBR\"\u001b[0m\u001b[0;34m,\u001b[0m\u001b[0mpd\u001b[0m\u001b[0;34m.\u001b[0m\u001b[0mGrouper\u001b[0m\u001b[0;34m(\u001b[0m\u001b[0mkey\u001b[0m \u001b[0;34m=\u001b[0m \u001b[0;34m\"DATE\"\u001b[0m\u001b[0;34m,\u001b[0m \u001b[0mfreq\u001b[0m \u001b[0;34m=\u001b[0m \u001b[0;34m\"1W\"\u001b[0m\u001b[0;34m)\u001b[0m\u001b[0;34m]\u001b[0m\u001b[0;34m)\u001b[0m\u001b[0;34m.\u001b[0m\u001b[0msum\u001b[0m\u001b[0;34m(\u001b[0m\u001b[0;34m)\u001b[0m\u001b[0;34m\u001b[0m\u001b[0;34m\u001b[0m\u001b[0m\n\u001b[1;32m      5\u001b[0m \u001b[0;34m\u001b[0m\u001b[0m\n\u001b[0;32m----> 6\u001b[0;31m \u001b[0mgroup\u001b[0m\u001b[0;34m[\u001b[0m\u001b[0;36m1\u001b[0m\u001b[0;34m]\u001b[0m\u001b[0;34m[\u001b[0m\u001b[0;36m1\u001b[0m\u001b[0;34m]\u001b[0m\u001b[0;34m\u001b[0m\u001b[0;34m\u001b[0m\u001b[0m\n\u001b[0m\u001b[1;32m      7\u001b[0m \u001b[0;34m\u001b[0m\u001b[0m\n\u001b[1;32m      8\u001b[0m \u001b[0;31m# merged_data[\"DATE\"].map(type) == type(merged_data[\"DATE\"][0])\u001b[0m\u001b[0;34m\u001b[0m\u001b[0;34m\u001b[0m\u001b[0;34m\u001b[0m\u001b[0m\n",
            "\u001b[0;32m/usr/local/lib/python3.7/dist-packages/pandas/core/frame.py\u001b[0m in \u001b[0;36m__getitem__\u001b[0;34m(self, key)\u001b[0m\n\u001b[1;32m   2904\u001b[0m             \u001b[0;32mif\u001b[0m \u001b[0mself\u001b[0m\u001b[0;34m.\u001b[0m\u001b[0mcolumns\u001b[0m\u001b[0;34m.\u001b[0m\u001b[0mnlevels\u001b[0m \u001b[0;34m>\u001b[0m \u001b[0;36m1\u001b[0m\u001b[0;34m:\u001b[0m\u001b[0;34m\u001b[0m\u001b[0;34m\u001b[0m\u001b[0m\n\u001b[1;32m   2905\u001b[0m                 \u001b[0;32mreturn\u001b[0m \u001b[0mself\u001b[0m\u001b[0;34m.\u001b[0m\u001b[0m_getitem_multilevel\u001b[0m\u001b[0;34m(\u001b[0m\u001b[0mkey\u001b[0m\u001b[0;34m)\u001b[0m\u001b[0;34m\u001b[0m\u001b[0;34m\u001b[0m\u001b[0m\n\u001b[0;32m-> 2906\u001b[0;31m             \u001b[0mindexer\u001b[0m \u001b[0;34m=\u001b[0m \u001b[0mself\u001b[0m\u001b[0;34m.\u001b[0m\u001b[0mcolumns\u001b[0m\u001b[0;34m.\u001b[0m\u001b[0mget_loc\u001b[0m\u001b[0;34m(\u001b[0m\u001b[0mkey\u001b[0m\u001b[0;34m)\u001b[0m\u001b[0;34m\u001b[0m\u001b[0;34m\u001b[0m\u001b[0m\n\u001b[0m\u001b[1;32m   2907\u001b[0m             \u001b[0;32mif\u001b[0m \u001b[0mis_integer\u001b[0m\u001b[0;34m(\u001b[0m\u001b[0mindexer\u001b[0m\u001b[0;34m)\u001b[0m\u001b[0;34m:\u001b[0m\u001b[0;34m\u001b[0m\u001b[0;34m\u001b[0m\u001b[0m\n\u001b[1;32m   2908\u001b[0m                 \u001b[0mindexer\u001b[0m \u001b[0;34m=\u001b[0m \u001b[0;34m[\u001b[0m\u001b[0mindexer\u001b[0m\u001b[0;34m]\u001b[0m\u001b[0;34m\u001b[0m\u001b[0;34m\u001b[0m\u001b[0m\n",
            "\u001b[0;32m/usr/local/lib/python3.7/dist-packages/pandas/core/indexes/base.py\u001b[0m in \u001b[0;36mget_loc\u001b[0;34m(self, key, method, tolerance)\u001b[0m\n\u001b[1;32m   2898\u001b[0m                 \u001b[0;32mreturn\u001b[0m \u001b[0mself\u001b[0m\u001b[0;34m.\u001b[0m\u001b[0m_engine\u001b[0m\u001b[0;34m.\u001b[0m\u001b[0mget_loc\u001b[0m\u001b[0;34m(\u001b[0m\u001b[0mcasted_key\u001b[0m\u001b[0;34m)\u001b[0m\u001b[0;34m\u001b[0m\u001b[0;34m\u001b[0m\u001b[0m\n\u001b[1;32m   2899\u001b[0m             \u001b[0;32mexcept\u001b[0m \u001b[0mKeyError\u001b[0m \u001b[0;32mas\u001b[0m \u001b[0merr\u001b[0m\u001b[0;34m:\u001b[0m\u001b[0;34m\u001b[0m\u001b[0;34m\u001b[0m\u001b[0m\n\u001b[0;32m-> 2900\u001b[0;31m                 \u001b[0;32mraise\u001b[0m \u001b[0mKeyError\u001b[0m\u001b[0;34m(\u001b[0m\u001b[0mkey\u001b[0m\u001b[0;34m)\u001b[0m \u001b[0;32mfrom\u001b[0m \u001b[0merr\u001b[0m\u001b[0;34m\u001b[0m\u001b[0;34m\u001b[0m\u001b[0m\n\u001b[0m\u001b[1;32m   2901\u001b[0m \u001b[0;34m\u001b[0m\u001b[0m\n\u001b[1;32m   2902\u001b[0m         \u001b[0;32mif\u001b[0m \u001b[0mtolerance\u001b[0m \u001b[0;32mis\u001b[0m \u001b[0;32mnot\u001b[0m \u001b[0;32mNone\u001b[0m\u001b[0;34m:\u001b[0m\u001b[0;34m\u001b[0m\u001b[0;34m\u001b[0m\u001b[0m\n",
            "\u001b[0;31mKeyError\u001b[0m: 1"
          ]
        }
      ]
    },
    {
      "cell_type": "code",
      "metadata": {
        "id": "f50e9da9-6097-4802-b959-368eaf26c63e"
      },
      "source": [
        "df = pd.DataFrame(\n",
        "\n",
        "   {\n",
        "\n",
        "       \"Publish date\": [\n",
        "\n",
        "            \"2000-01-02\",\n",
        "\n",
        "            \"2000-01-02\",\n",
        "\n",
        "            \"2000-01-09\",\n",
        "\n",
        "            \"2000-01-16\"\n",
        "\n",
        "        ],\n",
        "\n",
        "        \"ID\": [0, 1, 2, 3],\n",
        "\n",
        "        \"Price\": [10, 20, 30, 40]\n",
        "\n",
        "    }\n",
        "\n",
        ")\n",
        "\n",
        "df[\"Publish date\"] = pd.to_datetime(df[\"Publish date\"])\n"
      ],
      "id": "f50e9da9-6097-4802-b959-368eaf26c63e",
      "execution_count": 34,
      "outputs": []
    },
    {
      "cell_type": "code",
      "metadata": {
        "colab": {
          "base_uri": "https://localhost:8080/"
        },
        "id": "7883a606-0d04-46f0-845e-e730b09f0c86",
        "outputId": "16e44175-a045-4f84-ea9f-b6a81e69e1c2"
      },
      "source": [
        "type(df[\"Publish date\"][1])\n"
      ],
      "id": "7883a606-0d04-46f0-845e-e730b09f0c86",
      "execution_count": 35,
      "outputs": [
        {
          "output_type": "execute_result",
          "data": {
            "text/plain": [
              "pandas._libs.tslibs.timestamps.Timestamp"
            ]
          },
          "metadata": {},
          "execution_count": 35
        }
      ]
    },
    {
      "cell_type": "code",
      "metadata": {
        "id": "b24fd82d-9a38-4919-a52e-c3630ac7d9b4"
      },
      "source": [
        ""
      ],
      "id": "b24fd82d-9a38-4919-a52e-c3630ac7d9b4",
      "execution_count": null,
      "outputs": []
    },
    {
      "cell_type": "code",
      "metadata": {
        "id": "8cb4a85e-f7fa-440f-9de5-a4ebe333f391"
      },
      "source": [
        ""
      ],
      "id": "8cb4a85e-f7fa-440f-9de5-a4ebe333f391",
      "execution_count": null,
      "outputs": []
    },
    {
      "cell_type": "code",
      "metadata": {
        "id": "2cbf3342-0c4f-479b-a532-784e6f9149ad",
        "outputId": "fa8ff64a-020f-4813-a3fa-7a8e5630ed19"
      },
      "source": [
        "df[\"Publish date\"][2]\n",
        "df.groupby(pd.Grouper(key=\"Publish date\", freq=\"1W\")).mean()"
      ],
      "id": "2cbf3342-0c4f-479b-a532-784e6f9149ad",
      "execution_count": null,
      "outputs": [
        {
          "data": {
            "text/plain": [
              "Timestamp('2000-01-09 00:00:00')"
            ]
          },
          "execution_count": 16,
          "metadata": {},
          "output_type": "execute_result"
        },
        {
          "data": {
            "text/html": [
              "<div>\n",
              "<style scoped>\n",
              "    .dataframe tbody tr th:only-of-type {\n",
              "        vertical-align: middle;\n",
              "    }\n",
              "\n",
              "    .dataframe tbody tr th {\n",
              "        vertical-align: top;\n",
              "    }\n",
              "\n",
              "    .dataframe thead th {\n",
              "        text-align: right;\n",
              "    }\n",
              "</style>\n",
              "<table border=\"1\" class=\"dataframe\">\n",
              "  <thead>\n",
              "    <tr style=\"text-align: right;\">\n",
              "      <th></th>\n",
              "      <th>ID</th>\n",
              "      <th>Price</th>\n",
              "    </tr>\n",
              "    <tr>\n",
              "      <th>Publish date</th>\n",
              "      <th></th>\n",
              "      <th></th>\n",
              "    </tr>\n",
              "  </thead>\n",
              "  <tbody>\n",
              "    <tr>\n",
              "      <th>2000-01-02</th>\n",
              "      <td>0.5</td>\n",
              "      <td>15.0</td>\n",
              "    </tr>\n",
              "    <tr>\n",
              "      <th>2000-01-09</th>\n",
              "      <td>2.0</td>\n",
              "      <td>30.0</td>\n",
              "    </tr>\n",
              "    <tr>\n",
              "      <th>2000-01-16</th>\n",
              "      <td>3.0</td>\n",
              "      <td>40.0</td>\n",
              "    </tr>\n",
              "  </tbody>\n",
              "</table>\n",
              "</div>"
            ],
            "text/plain": [
              "               ID  Price\n",
              "Publish date            \n",
              "2000-01-02    0.5   15.0\n",
              "2000-01-09    2.0   30.0\n",
              "2000-01-16    3.0   40.0"
            ]
          },
          "execution_count": 16,
          "metadata": {},
          "output_type": "execute_result"
        }
      ]
    },
    {
      "cell_type": "code",
      "metadata": {
        "id": "543e7905-c6be-47fc-9dcc-4e4c51777f64"
      },
      "source": [
        ""
      ],
      "id": "543e7905-c6be-47fc-9dcc-4e4c51777f64",
      "execution_count": null,
      "outputs": []
    }
  ]
}