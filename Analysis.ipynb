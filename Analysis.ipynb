{
  "nbformat": 4,
  "nbformat_minor": 5,
  "metadata": {
    "kernelspec": {
      "display_name": "Python 3",
      "language": "python",
      "name": "python3"
    },
    "language_info": {
      "codemirror_mode": {
        "name": "ipython",
        "version": 3
      },
      "file_extension": ".py",
      "mimetype": "text/x-python",
      "name": "python",
      "nbconvert_exporter": "python",
      "pygments_lexer": "ipython3",
      "version": "3.6.13"
    },
    "colab": {
      "name": "Analysis.ipynb",
      "provenance": [],
      "include_colab_link": true
    }
  },
  "cells": [
    {
      "cell_type": "markdown",
      "metadata": {
        "id": "view-in-github",
        "colab_type": "text"
      },
      "source": [
        "<a href=\"https://colab.research.google.com/github/batwhite/Data-Science-Project/blob/master/Analysis.ipynb\" target=\"_parent\"><img src=\"https://colab.research.google.com/assets/colab-badge.svg\" alt=\"Open In Colab\"/></a>"
      ]
    },
    {
      "cell_type": "code",
      "metadata": {
        "id": "fc0cd61e-aa0e-410b-a529-54ffdf0f76c5"
      },
      "source": [
        "import os\n",
        "os.environ['KMP_DUPLICATE_LIB_OK']='True'"
      ],
      "id": "fc0cd61e-aa0e-410b-a529-54ffdf0f76c5",
      "execution_count": null,
      "outputs": []
    },
    {
      "cell_type": "code",
      "metadata": {
        "colab": {
          "base_uri": "https://localhost:8080/"
        },
        "id": "rWvNU6hKBoSh",
        "outputId": "c74915d6-84c7-4156-abfa-916ff553780c"
      },
      "source": [
        "!git clone https://github.com/batwhite/Data-Science-Project.git"
      ],
      "id": "rWvNU6hKBoSh",
      "execution_count": null,
      "outputs": [
        {
          "output_type": "stream",
          "name": "stdout",
          "text": [
            "Cloning into 'Data-Science-Project'...\n",
            "remote: Enumerating objects: 9, done.\u001b[K\n",
            "remote: Counting objects: 100% (9/9), done.\u001b[K\n",
            "remote: Compressing objects: 100% (9/9), done.\u001b[K\n",
            "remote: Total 9 (delta 0), reused 9 (delta 0), pack-reused 0\u001b[K\n",
            "Unpacking objects: 100% (9/9), done.\n"
          ]
        }
      ]
    },
    {
      "cell_type": "code",
      "metadata": {
        "id": "a40a7576-ed35-47db-807e-bc5f2e7534ca"
      },
      "source": [
        "import numpy as np\n",
        "import pandas as pd\n",
        "import matplotlib\n",
        "\n",
        "import matplotlib.pyplot as plt\n",
        "import seaborn as sns\n",
        "import tensorflow as tf\n",
        "import os\n",
        "from IPython.core.interactiveshell import InteractiveShell\n",
        "InteractiveShell.ast_node_interactivity = \"all\"\n",
        "\n",
        "#for matplotlib\n",
        "\n",
        "\n",
        "%matplotlib inline\n",
        "\n"
      ],
      "id": "a40a7576-ed35-47db-807e-bc5f2e7534ca",
      "execution_count": null,
      "outputs": []
    },
    {
      "cell_type": "code",
      "metadata": {
        "id": "987c7691-8f03-4b7a-aaa6-60191601c213"
      },
      "source": [
        "path_transaction = \"/content/Data-Science-Project/Data/QVI_transaction_data.xlsx\"\n",
        "path_trends = \"/content/Data-Science-Project/Data/QVI_purchase_behaviour.csv\"\n",
        "trends_data = pd.read_csv(path_trends)\n",
        "trends_data"
      ],
      "id": "987c7691-8f03-4b7a-aaa6-60191601c213",
      "execution_count": null,
      "outputs": []
    },
    {
      "cell_type": "code",
      "metadata": {
        "id": "7f993656-22df-4bee-94ce-9a50fdff84c8"
      },
      "source": [
        "categorical_lifestage = pd.Categorical(trends_data.LIFESTAGE)\n",
        "categorical_lifestage.describe()\n",
        "plt.figure()\n",
        "\n",
        "fig,ax = plt.subplots(nrows = 1,ncols = 2,figsize = (20,10))\n",
        "\n",
        "ax[0].bar(trends_data.LIFESTAGE.value_counts().index,trends_data.LIFESTAGE.value_counts()) \n",
        "ax[0].tick_params(labelrotation=90)\n",
        "ax[1].bar(trends_data.PREMIUM_CUSTOMER.value_counts().index,trends_data.PREMIUM_CUSTOMER.value_counts())\n",
        "ax[1].tick_params(labelrotation = 90)\n",
        "plt.show()\n",
        "\n",
        "\n",
        "# trends_data.LIFESTAGE[categorical_lifestage[1]]\n"
      ],
      "id": "7f993656-22df-4bee-94ce-9a50fdff84c8",
      "execution_count": null,
      "outputs": []
    },
    {
      "cell_type": "code",
      "metadata": {
        "id": "35df8a1e-943f-418f-96e2-75efec05bd82"
      },
      "source": [
        "transaction_data = pd.read_excel(path_transaction, engine = 'openpyxl')\n",
        "transaction_data"
      ],
      "id": "35df8a1e-943f-418f-96e2-75efec05bd82",
      "execution_count": null,
      "outputs": []
    },
    {
      "cell_type": "code",
      "metadata": {
        "id": "184672ff-6038-475c-acc8-db92f5f0e327"
      },
      "source": [
        "#checking whether there are any empty values\n",
        "trends_data.isnull().sum().sum()\n",
        "transaction_data.isnull().sum().sum()"
      ],
      "id": "184672ff-6038-475c-acc8-db92f5f0e327",
      "execution_count": null,
      "outputs": []
    },
    {
      "cell_type": "code",
      "metadata": {
        "id": "9548b289-76e1-4304-b452-17d67c87b36a"
      },
      "source": [
        "merged_data = pd.merge(transaction_data,trends_data, how = \"right\",on = \"LYLTY_CARD_NBR\")\n",
        "merged_data.head()"
      ],
      "id": "9548b289-76e1-4304-b452-17d67c87b36a",
      "execution_count": null,
      "outputs": []
    },
    {
      "cell_type": "code",
      "metadata": {
        "id": "47ea6924-e03a-448f-9382-b874a1806256"
      },
      "source": [
        "#checking that all the customers have transaction records\n",
        "merged_data.isnull().sum().sum()\n",
        "\n",
        "#gettinig all the names of the products\n",
        "unique_prod = merged_data[\"PROD_NAME\"].unique()\n",
        "unique_prod"
      ],
      "id": "47ea6924-e03a-448f-9382-b874a1806256",
      "execution_count": null,
      "outputs": []
    },
    {
      "cell_type": "code",
      "metadata": {
        "id": "0f4722a8-b112-4a05-b244-c6cfbd7b320f"
      },
      "source": [
        "split_prods = merged_data[\"PROD_NAME\"].str.replace(r'([0-9]+[gG])','').str.replace(r'[^\\w]', ' ').str.split()\n",
        "split_prods"
      ],
      "id": "0f4722a8-b112-4a05-b244-c6cfbd7b320f",
      "execution_count": null,
      "outputs": []
    },
    {
      "cell_type": "code",
      "metadata": {
        "id": "2c0e9bc8-2189-4b9a-9572-9024ef113e89"
      },
      "source": [
        "#changing date time format\n",
        "from datetime import date, timedelta\n",
        "start = date(1899,12,30)\n",
        "\n",
        "merged_data[\"DATE\"] = merged_data[\"DATE\"].apply(lambda x: timedelta(x)+start)\n",
        "# pd.to_datetime(merged_data[\"DATE\"])\n",
        "\n",
        "\n"
      ],
      "id": "2c0e9bc8-2189-4b9a-9572-9024ef113e89",
      "execution_count": null,
      "outputs": []
    },
    {
      "cell_type": "code",
      "metadata": {
        "id": "b21f118c-a426-4905-a5b4-26a35afad5d9"
      },
      "source": [
        "merged_data[\"DATE\"][2]"
      ],
      "id": "b21f118c-a426-4905-a5b4-26a35afad5d9",
      "execution_count": null,
      "outputs": []
    },
    {
      "cell_type": "code",
      "metadata": {
        "id": "caee0ecd-d8a4-45f5-b179-2843ebcc735c"
      },
      "source": [
        "# merged_data.sort_values(['DATE'])\n",
        "# mer = merged_data.groupby([\"PREMIUM_CUSTOMER\"])\n",
        "merged_data[\"DATE\"].index.dtype\n",
        "merged_data.groupby([pd.Grouper(key = \"DATE\", freq = \"1W\")])\n",
        "# merged_data[\"DATE\"].map(type) == type(merged_data[\"DATE\"][0])"
      ],
      "id": "caee0ecd-d8a4-45f5-b179-2843ebcc735c",
      "execution_count": null,
      "outputs": []
    },
    {
      "cell_type": "code",
      "metadata": {
        "id": "f50e9da9-6097-4802-b959-368eaf26c63e"
      },
      "source": [
        "df = pd.DataFrame(\n",
        "\n",
        "   {\n",
        "\n",
        "       \"Publish date\": [\n",
        "\n",
        "            \"2000-01-02\",\n",
        "\n",
        "            \"2000-01-02\",\n",
        "\n",
        "            \"2000-01-09\",\n",
        "\n",
        "            \"2000-01-16\"\n",
        "\n",
        "        ],\n",
        "\n",
        "        \"ID\": [0, 1, 2, 3],\n",
        "\n",
        "        \"Price\": [10, 20, 30, 40]\n",
        "\n",
        "    }\n",
        "\n",
        ")\n",
        "\n",
        "df[\"Publish date\"] = pd.to_datetime(df[\"Publish date\"])\n"
      ],
      "id": "f50e9da9-6097-4802-b959-368eaf26c63e",
      "execution_count": null,
      "outputs": []
    },
    {
      "cell_type": "code",
      "metadata": {
        "id": "7883a606-0d04-46f0-845e-e730b09f0c86"
      },
      "source": [
        "type(df[\"Publish date\"][1])\n"
      ],
      "id": "7883a606-0d04-46f0-845e-e730b09f0c86",
      "execution_count": null,
      "outputs": []
    },
    {
      "cell_type": "code",
      "metadata": {
        "id": "b24fd82d-9a38-4919-a52e-c3630ac7d9b4"
      },
      "source": [
        ""
      ],
      "id": "b24fd82d-9a38-4919-a52e-c3630ac7d9b4",
      "execution_count": null,
      "outputs": []
    },
    {
      "cell_type": "code",
      "metadata": {
        "id": "8cb4a85e-f7fa-440f-9de5-a4ebe333f391"
      },
      "source": [
        ""
      ],
      "id": "8cb4a85e-f7fa-440f-9de5-a4ebe333f391",
      "execution_count": null,
      "outputs": []
    },
    {
      "cell_type": "code",
      "metadata": {
        "id": "2cbf3342-0c4f-479b-a532-784e6f9149ad",
        "outputId": "fa8ff64a-020f-4813-a3fa-7a8e5630ed19"
      },
      "source": [
        "df[\"Publish date\"][2]\n",
        "df.groupby(pd.Grouper(key=\"Publish date\", freq=\"1W\")).mean()"
      ],
      "id": "2cbf3342-0c4f-479b-a532-784e6f9149ad",
      "execution_count": null,
      "outputs": [
        {
          "data": {
            "text/plain": [
              "Timestamp('2000-01-09 00:00:00')"
            ]
          },
          "execution_count": 16,
          "metadata": {},
          "output_type": "execute_result"
        },
        {
          "data": {
            "text/html": [
              "<div>\n",
              "<style scoped>\n",
              "    .dataframe tbody tr th:only-of-type {\n",
              "        vertical-align: middle;\n",
              "    }\n",
              "\n",
              "    .dataframe tbody tr th {\n",
              "        vertical-align: top;\n",
              "    }\n",
              "\n",
              "    .dataframe thead th {\n",
              "        text-align: right;\n",
              "    }\n",
              "</style>\n",
              "<table border=\"1\" class=\"dataframe\">\n",
              "  <thead>\n",
              "    <tr style=\"text-align: right;\">\n",
              "      <th></th>\n",
              "      <th>ID</th>\n",
              "      <th>Price</th>\n",
              "    </tr>\n",
              "    <tr>\n",
              "      <th>Publish date</th>\n",
              "      <th></th>\n",
              "      <th></th>\n",
              "    </tr>\n",
              "  </thead>\n",
              "  <tbody>\n",
              "    <tr>\n",
              "      <th>2000-01-02</th>\n",
              "      <td>0.5</td>\n",
              "      <td>15.0</td>\n",
              "    </tr>\n",
              "    <tr>\n",
              "      <th>2000-01-09</th>\n",
              "      <td>2.0</td>\n",
              "      <td>30.0</td>\n",
              "    </tr>\n",
              "    <tr>\n",
              "      <th>2000-01-16</th>\n",
              "      <td>3.0</td>\n",
              "      <td>40.0</td>\n",
              "    </tr>\n",
              "  </tbody>\n",
              "</table>\n",
              "</div>"
            ],
            "text/plain": [
              "               ID  Price\n",
              "Publish date            \n",
              "2000-01-02    0.5   15.0\n",
              "2000-01-09    2.0   30.0\n",
              "2000-01-16    3.0   40.0"
            ]
          },
          "execution_count": 16,
          "metadata": {},
          "output_type": "execute_result"
        }
      ]
    },
    {
      "cell_type": "code",
      "metadata": {
        "id": "543e7905-c6be-47fc-9dcc-4e4c51777f64"
      },
      "source": [
        ""
      ],
      "id": "543e7905-c6be-47fc-9dcc-4e4c51777f64",
      "execution_count": null,
      "outputs": []
    }
  ]
}